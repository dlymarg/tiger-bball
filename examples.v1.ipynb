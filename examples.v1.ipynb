{
 "cells": [
  {
   "cell_type": "markdown",
   "metadata": {},
   "source": [
    "# creation of Four Factors classes for all games"
   ]
  },
  {
   "cell_type": "code",
   "execution_count": 1,
   "metadata": {},
   "outputs": [
    {
     "name": "stdout",
     "output_type": "stream",
     "text": [
      "Creating FourFactors class for game: ./Games/c_Col. of Charleston vs Towson (01_07_18 at Towson, Md. - SECU Arena)\n",
      "ASSIST by Thomas, Alex                          2-00:05\n",
      "Creating FourFactors class for game: ./Games/c_Delaware vs Towson (02_15_18 at Towson, Md. - SECU Arena)\n",
      "REBOUND (DEF) by (DEADBALL)                     2-00:02\n",
      "Creating FourFactors class for game: ./Games/c_Drexel vs Towson (01_18_18 at Towson, Md. - SECU Arena)\n",
      "REBOUND (DEF) by Morsell, Mike                  2-00:22              MISSED 3 PTR by Harper, Troy\n",
      "Creating FourFactors class for game: ./Games/c_Elon vs Towson (01_27_18 at SECU Arena -- Towson, Md.)\n",
      "GOOD! LAYUP by Tunstall, Dennis [PNT]           2-00:04  76-83  V 7\n",
      "Creating FourFactors class for game: ./Games/c_Hofstra vs Towson (01_11_18 at Towson, Md. - SECU Arena)\n",
      "                                                2-00:01              ASSIST by Wright-Foreman, J\n",
      "Creating FourFactors class for game: ./Games/c_James Madison vs Towson (02_17_18 at SECU Arena -- Towson, Md.)\n",
      "MISSED 3 PTR by Gorham, Justin                  2-00:01              REBOUND (DEF) by (DEADBALL)\n",
      "Creating FourFactors class for game: ./Games/c_Northeastern vs Towson (02_10_18 at SECU Arena -- Towson, Md.)\n",
      "GOOD! LAYUP by McNeil, Jordan [PNT]             2-00:02  62-77  V 15\n",
      "Creating FourFactors class for game: ./Games/c_Towson vs Col. of Charleston (12_30_17 at TD Arena - Charleston, S.C.)\n",
      "REBOUND (DEF) by Chealey, Joe                   2-00:13              MISSED 3 PTR by Martin, Zane\n",
      "Creating FourFactors class for game: ./Games/c_Towson vs Delaware (02_01_18 at Newark, Del. (Bob Carpenter Center))\n",
      "                                                2-00:02              SUB OUT: Gorham, Justin\n",
      "Creating FourFactors class for game: ./Games/c_Towson vs Drexel (2_8_18 at Daskalakis Athletic Center)\n",
      "REBOUND (OFF) by Demir, Alihan                  3-00:00\n",
      "Creating FourFactors class for game: ./Games/c_Towson vs Hofstra (02_24_18 at Hempstead, NY (Mack Sports Complex))\n",
      "                                                2-00:02              REBOUND (OFF) by Martin, Zane\n",
      "Creating FourFactors class for game: ./Games/c_Towson vs James Madison (02_03_18 at JMU Convocation Center; Harrisonburg, Va)\n",
      "                                                2-00:02              SUB OUT: Tunstall, Dennis\n",
      "Creating FourFactors class for game: ./Games/c_Towson vs UNCW (01_20_18 at Wilmington, N.C. (Trask Coliseum))\n",
      "MISSED FT SHOT by Bryan, Marcus                 3-00:01              REBOUND (DEF) by Morsell, Mike\n",
      "Creating FourFactors class for game: ./Games/c_Towson vs William & Mary (03_04_18 at North Charleston, S.C.)\n",
      "                                                2-00:28              ASSIST by Martin, Zane\n",
      "Creating FourFactors class for game: ./Games/c_Towson vs William & Mary (1_13_18 at Williamsburg, Va. (Kaplan Arena))\n",
      "MISSED 3 PTR by Glover, Jamison                 2-00:26              REBOUND (DEF) by (TEAM)\n",
      "Creating FourFactors class for game: ./Games/c_UNCW vs Towson (01_05_18 at Towson, Md. - SECU Arena)\n",
      "                                                2-00:20              ASSIST by Gary, Jeffrey\n",
      "Creating FourFactors class for game: ./Games/c_William & Mary vs Towson (01_25_18 at Towson, Md. - SECU Arena)\n",
      "STEAL by Starr, Brian                           3-00:01\n",
      "Creating FourFactors class for game: ./Games/Frostburg State vs Towson (11_13_17 at Towson, Md. - SECU Arena)\n",
      "REBOUND (DEF) by Rolle, Van                     2-00:19\n",
      "Creating FourFactors class for game: ./Games/Morgan State vs Towson (12_06_17 at Towson, Md. - SECU Arena)\n",
      "REBOUND (DEF) by Morsell, Mike                  3-00:08              MISSED LAYUP by DAVIS,Stanley\n",
      "Creating FourFactors class for game: ./Games/Towson vs Georgia Southern (11_22_17 at Fort Myers, Fla. (Germain Arena))\n",
      "MISSED 3 PTR by Jake Allsmiller                 2-00:01              REBOUND (DEF) by (TEAM)\n",
      "Creating FourFactors class for game: ./Games/Towson vs La Salle (12_1_17 at Belfast, Northern Ireland (SSE Arena))\n",
      "MISSED 3 PTR by PHIRI, Saul                     2-00:05              REBOUND (DEF) by (TEAM)\n",
      "Creating FourFactors class for game: ./Games/Towson vs Manhattan (12_2_17 at Belfast, Northern Ireland)\n",
      "TURNOVR by Waterman, Zane                       2-00:01              STEAL by Keith II, Eddie\n",
      "Creating FourFactors class for game: ./Games/Towson vs Oakland (12_20_17 at Rochester, Mich (The Blacktop at O'rena))\n",
      "                                                2-00:01              REBOUND (OFF) by (DEADBALL)\n",
      "Creating FourFactors class for game: ./Games/Towson vs ODU (11_10_17 at Norfolk, Va.)\n",
      "                                                2-00:01              SUB OUT: Keith II, Eddie\n",
      "Creating FourFactors class for game: ./Games/Towson vs Penn (11_21_17 at Germain Arena (Fort Myers, Fla.))\n",
      "MISSED 3 PTR by Eddie Scott                     2-00:15              REBOUND (DEF) by Keith II, Eddie\n",
      "Creating FourFactors class for game: ./Games/UMBC vs Towson (12-9-17 at SECU Arena -- Towson, Md.)\n",
      "                                                2-00:08              ASSIST by Maura, K.J.\n"
     ]
    }
   ],
   "source": [
    "import pandas as pd\n",
    "import numpy as np\n",
    "from events12 import *\n",
    "import os\n",
    "\n",
    "mark_conf_games('./Games/')\n",
    "fname_list = [fname[:-5] for fname in os.listdir('./Games/')]\n",
    "\n",
    "games = []\n",
    "for f in fname_list:\n",
    "    games.append(FourFactors('./Games/' + f))"
   ]
  },
  {
   "cell_type": "code",
   "execution_count": 2,
   "metadata": {},
   "outputs": [
    {
     "name": "stdout",
     "output_type": "stream",
     "text": [
      "(True, 1)\n",
      "(True, 2)\n"
     ]
    }
   ],
   "source": [
    "# Example usage of new methods\n",
    "print((games[5].event_occurred('3 PTR', '1-13:57'), games[5].event_which('3 PTR', '1-13:57')))\n",
    "print((games[5].event_occurred('ASSIST', '1-13:57'),games[5].event_which('ASSIST', '1-13:57')))"
   ]
  },
  {
   "cell_type": "code",
   "execution_count": 3,
   "metadata": {},
   "outputs": [
    {
     "name": "stdout",
     "output_type": "stream",
     "text": [
      "[3, 2]\n"
     ]
    }
   ],
   "source": [
    "# Usage of event_which function when there are multiple ones\n",
    "print(games[5].event_which('FT SHOT','1-06:07'))"
   ]
  },
  {
   "cell_type": "markdown",
   "metadata": {},
   "source": [
    "# Examples of computations on raw dataset"
   ]
  },
  {
   "cell_type": "code",
   "execution_count": 11,
   "metadata": {},
   "outputs": [
    {
     "name": "stdout",
     "output_type": "stream",
     "text": [
      "14\n"
     ]
    }
   ],
   "source": [
    "# Count all 3 PTRs made in game 5\n",
    "counter = 0\n",
    "for t in games[5].valid_times():\n",
    "    if games[5].event_occurred('GOOD! 3 PTR', t):\n",
    "        counter += 1\n",
    "print(counter)"
   ]
  },
  {
   "cell_type": "code",
   "execution_count": 17,
   "metadata": {},
   "outputs": [
    {
     "name": "stdout",
     "output_type": "stream",
     "text": [
      "0.2857142857142857\n"
     ]
    }
   ],
   "source": [
    "# Percentage of 3 PTRs, compared to all field goals made, in game 5\n",
    "counter3Ptr = 0\n",
    "counterFG = 0\n",
    "for t in games[5].valid_times():\n",
    "    if games[5].event_occurred('GOOD!', t):\n",
    "        baskets = games[5].event_which('GOOD!', t) ## in play-by-play, 'GOOD!' signifies a point was made\n",
    "        if type(baskets)==list: \n",
    "            b = str(baskets[0]) # events_which picks up FT SHOTS and later things in the play, remove that\n",
    "        else:\n",
    "            b = str(baskets)\n",
    "        if 'GOOD! 3 PTR' in games[5].event_dictionary[t]['event'+b]:\n",
    "            counter3Ptr += 1\n",
    "            counterFG += 1\n",
    "        elif not ('FT SHOT' in games[5].event_dictionary[t]['event'+b]):\n",
    "            counterFG += 1\n",
    "print(counter3Ptr/counterFG)"
   ]
  }
 ],
 "metadata": {
  "kernelspec": {
   "display_name": "Python 3",
   "language": "python",
   "name": "python3"
  },
  "language_info": {
   "codemirror_mode": {
    "name": "ipython",
    "version": 3
   },
   "file_extension": ".py",
   "mimetype": "text/x-python",
   "name": "python",
   "nbconvert_exporter": "python",
   "pygments_lexer": "ipython3",
   "version": "3.6.4"
  }
 },
 "nbformat": 4,
 "nbformat_minor": 2
}
